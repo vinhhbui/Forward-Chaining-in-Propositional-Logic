{
  "cells": [
    {
      "cell_type": "code",
      "execution_count": null,
      "metadata": {
        "id": "OLXNoPkso0ba"
      },
      "outputs": [],
      "source": [
        "import"
      ]
    },
    {
      "cell_type": "code",
      "execution_count": null,
      "metadata": {
        "id": "QQQF9l6qo5EG"
      },
      "outputs": [],
      "source": [
        "class Clause:\n",
        "    def __init__(self, clause, literals):\n",
        "        self.clause = clause\n",
        "        self.literals = literals\n",
        "        "
      ]
    }
  ],
  "metadata": {
    "colab": {
      "provenance": []
    },
    "kernelspec": {
      "display_name": "Python 3",
      "name": "python3"
    },
    "language_info": {
      "name": "python"
    }
  },
  "nbformat": 4,
  "nbformat_minor": 0
}
